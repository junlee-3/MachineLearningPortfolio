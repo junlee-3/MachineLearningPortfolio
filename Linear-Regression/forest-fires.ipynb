{
 "cells": [
  {
   "cell_type": "markdown",
   "metadata": {},
   "source": [
    "# Linear Regression - Jun Lee\n",
    "\n",
    "To get the line equation, you calculate mean square error of the points to optimize the line so it has the least errors.\n",
    "Finding the \"line of best fit\" from a bunch of points so we can predict new data\n",
    "\n",
    "Linear Regression is a method used in statistics to find the relationship between one, or in this case multiple independent varibles against a dependent varible. In this assignment, we are predicting the dependent varible which will be ISI (Initial Spread Index) of a forest fire. The goal is for the trend to be linear and for us to be able to draw a \"line of best fit\" for the data, helping us to predict future data points\n",
    "\n",
    "Equation of a Line: In linear regression, the relationship between the dependent variable (y) and independent variable(s) (x) is modeled by a linear equation:\n",
    "\n",
    "### **f(𝑥) = 𝑦 = 𝑚𝑥+𝑏**\n",
    "\n",
    "Where: <br>\n",
    "**m** is the slope or gradient of the line \\frac{rise}{run} <br>\n",
    "**b** is the y-intercept, where the line crosses the y-axis. <br>\n",
    "\n",
    "Objective: The goal is to find the values of m (coefficients) and b (intercept) that minimize the error between the predicted values and the actual data points. This is done by minimizing the Mean Squared Error (MSE), which measures the average squared difference between the predicted values and the actual values."
   ]
  },
  {
   "cell_type": "code",
   "execution_count": 2,
   "metadata": {},
   "outputs": [],
   "source": [
    "# Library Imports\n",
    "import pandas as pd\n",
    "import numpy as np\n",
    "import sklearn\n",
    "import matplotlib.pyplot as pyplot\n",
    "import pickle\n",
    "from sklearn import linear_model\n",
    "from sklearn.utils import shuffle\n",
    "from matplotlib import style"
   ]
  },
  {
   "cell_type": "markdown",
   "metadata": {},
   "source": [
    "**Taking in our Dataset** <br>\n",
    "Here we are taking in our dataset we will use for this linear regression program, which is \"forestfires.csv\". <br>\n",
    "We have defined our varible \"data\" and parsed the csv into it and then printed out the first couple of vales to ensure everything is running smoothly"
   ]
  },
  {
   "cell_type": "code",
   "execution_count": 3,
   "metadata": {},
   "outputs": [
    {
     "name": "stdout",
     "output_type": "stream",
     "text": [
      "   X  Y month  day  FFMC   DMC     DC  ISI  temp  RH  wind  rain  area\n",
      "0  7  5   mar  fri  86.2  26.2   94.3  5.1   8.2  51   6.7   0.0   0.0\n",
      "1  7  4   oct  tue  90.6  35.4  669.1  6.7  18.0  33   0.9   0.0   0.0\n",
      "2  7  4   oct  sat  90.6  43.7  686.9  6.7  14.6  33   1.3   0.0   0.0\n",
      "3  8  6   mar  fri  91.7  33.3   77.5  9.0   8.3  97   4.0   0.2   0.0\n",
      "4  8  6   mar  sun  89.3  51.3  102.2  9.6  11.4  99   1.8   0.0   0.0\n"
     ]
    }
   ],
   "source": [
    "#Using Pandas atrributes\n",
    "data = pd.read_csv(\"forestfires.csv\", sep=\",\")\n",
    "print(data.head())"
   ]
  },
  {
   "cell_type": "code",
   "execution_count": null,
   "metadata": {},
   "outputs": [],
   "source": []
  },
  {
   "cell_type": "code",
   "execution_count": 4,
   "metadata": {},
   "outputs": [
    {
     "name": "stdout",
     "output_type": "stream",
     "text": [
      "   FFMC  ISI  temp  wind  area\n",
      "0  86.2  5.1   8.2   6.7   0.0\n",
      "1  90.6  6.7  18.0   0.9   0.0\n",
      "2  90.6  6.7  14.6   1.3   0.0\n",
      "3  91.7  9.0   8.3   4.0   0.0\n",
      "4  89.3  9.6  11.4   1.8   0.0\n"
     ]
    }
   ],
   "source": [
    "data = data[[\"FFMC\", \"ISI\", \"temp\", \"wind\", \"area\"]]\n",
    "print(data.head())"
   ]
  },
  {
   "cell_type": "code",
   "execution_count": 6,
   "metadata": {},
   "outputs": [],
   "source": [
    "predict = \"ISI\"\n",
    "\n",
    "#Set X and Y\n",
    "x = np.array(data.drop(predict, axis=1))\n",
    "y = np.array(data[predict])"
   ]
  },
  {
   "cell_type": "code",
   "execution_count": 7,
   "metadata": {},
   "outputs": [],
   "source": [
    "# Split the data set into train and test sets\n",
    "x_train, x_test, y_train, y_test = sklearn.model_selection.train_test_split(x, y, test_size=0.1)"
   ]
  },
  {
   "cell_type": "code",
   "execution_count": 8,
   "metadata": {},
   "outputs": [
    {
     "name": "stdout",
     "output_type": "stream",
     "text": [
      "0.4750201973613134\n"
     ]
    }
   ],
   "source": [
    " linear = linear_model.LinearRegression()\n",
    "\n",
    "# # Define the line of best fit\n",
    " linear.fit(x_train, y_train)\n",
    " acc = linear.score(x_test, y_test)\n",
    " print(acc)"
   ]
  },
  {
   "cell_type": "code",
   "execution_count": 19,
   "metadata": {},
   "outputs": [],
   "source": [
    "with open(\"firemodel.pickle\", \"wb\") as f:\n",
    "    pickle.dump(linear, f)"
   ]
  },
  {
   "cell_type": "code",
   "execution_count": 20,
   "metadata": {},
   "outputs": [],
   "source": [
    "# Load the pickle file\n",
    "pickle_in = open(\"firemodel.pickle\", \"rb\")\n",
    "linear = pickle.load(pickle_in)"
   ]
  },
  {
   "cell_type": "code",
   "execution_count": 11,
   "metadata": {},
   "outputs": [
    {
     "name": "stdout",
     "output_type": "stream",
     "text": [
      "Coefficient: \n",
      " [ 0.33358719  0.21033111  0.46575897 -0.00248673]\n",
      "Intercept: \n",
      " -27.013933058555715\n"
     ]
    }
   ],
   "source": [
    "print('Coefficient: \\n', linear.coef_)\n",
    "print('Intercept: \\n', linear.intercept_)"
   ]
  },
  {
   "cell_type": "code",
   "execution_count": 12,
   "metadata": {},
   "outputs": [
    {
     "name": "stdout",
     "output_type": "stream",
     "text": [
      "11.75265903157537 [93.4 30.2  2.7  0. ] 8.1\n",
      "3.962797141537603 [84.7   2.2   4.9   9.27] 4.1\n",
      "8.496932821756467 [91.4 15.9  3.6  0. ] 5.2\n",
      "2.9321827053589615 [82.1  5.3  3.1  0. ] 2.9\n",
      "10.246119206598351 [93.  18.8  4.9  0. ] 7.7\n",
      "9.878489933174343 [90.2 19.5  5.8  0. ] 6.2\n",
      "10.288996927539714 [92.3 24.1  3.1  0. ] 8.5\n",
      "7.207824319944081 [90.7  12.9   2.7   2.18] 6.8\n",
      "10.724159818465473 [92.6 20.6  5.4  0. ] 8.8\n",
      "7.298903730567957 [84.6   8.2   9.4   4.62] 3.3\n",
      "8.152475610372875 [88.8 14.4  5.4  0. ] 9.0\n",
      "9.43985058922469 [ 93.7   21.9    2.2  174.63] 8.4\n",
      "4.084070805721755 [79.5 11.8  4.5  0. ] 1.1\n",
      "9.648516014315085 [95.1 20.6  1.3  0. ] 17.7\n",
      "11.838905893742982 [95.5  23.3   4.5   0.55] 13.2\n",
      "2.1784426420490703 [69.  17.4  5.4  0. ] 0.7\n",
      "11.337086206819322 [93.1 28.7  2.7  0. ] 13.5\n",
      "8.21331247931559 [90.6  15.1   4.   13.99] 7.8\n",
      "7.758634229663976 [81.6  21.2   6.7  11.16] 1.9\n",
      "7.915687346875892 [90.5  11.8   4.9   9.71] 16.3\n",
      "9.570253041646396 [92.1 21.   3.1  0. ] 14.3\n",
      "13.854362871843968 [95.8 32.4  4.5  0. ] 13.8\n",
      "6.620768616567645 [86.6 15.7  3.1  0. ] 5.3\n",
      "8.314211230112768 [91.6 18.7  1.8  0. ] 9.0\n",
      "8.283512574038248 [90.1  15.4   4.5  37.71] 6.2\n",
      "9.576017952709698 [93.  19.6  3.1  0. ] 7.7\n",
      "11.869166601500957 [96.1 21.6  4.9  0. ] 14.3\n",
      "8.449109544767808 [91.  18.3  2.7  0. ] 7.0\n",
      "9.747081591327266 [93.4 13.8  5.8  0. ] 9.9\n",
      "9.739629337611419 [90.5  20.4   4.9   3.64] 11.4\n",
      "9.86916659590883 [90.6 21.7  4.5  0. ] 6.7\n",
      "10.500663348843283 [93.7 18.9  4.9  0. ] 8.4\n",
      "13.041147571877168 [96.1  27.3   4.9  10.82] 14.3\n",
      "9.811235834816749 [ 91.4   19.6    5.8  196.48] 10.6\n",
      "10.450157986274412 [91.   13.7   9.4  61.13] 12.3\n",
      "10.44711126862812 [92.4 19.6  5.4  0. ] 12.2\n",
      "10.255638208824834 [92.2 24.1  3.1  0. ] 8.4\n",
      "11.679868600334117 [96.1 20.7  4.9  0. ] 14.3\n",
      "8.832683837530084 [91.2  15.4   4.9  39.35] 8.4\n",
      "12.517469242724239 [93.2  30.2   4.5   2.75] 9.5\n",
      "9.74112887185916 [93.4  8.9  8.   0. ] 9.9\n",
      "9.635827509618501 [91.   21.9   4.   70.76] 7.1\n",
      "5.778324626714372 [84.    5.1   8.   11.19] 5.3\n",
      "13.387904281055114 [93.7  22.7   9.4   3.19] 18.0\n",
      "6.473968632486404 [90.8 13.3  0.9  7.4] 7.9\n",
      "11.413293117090838 [93.5 28.3  3.1 64.1] 8.1\n",
      "11.05404686002688 [93.7  23.6   4.    6.43] 8.4\n",
      "9.960847648860621 [91.2  22.3   4.    0.72] 8.4\n",
      "9.388866758898686 [93.7 17.6  3.1  0. ] 17.9\n",
      "11.85853362845905 [94.8  24.6   4.5   8.71] 17.0\n",
      "6.598316029924334 [88.1 14.1  2.7  0. ] 3.8\n",
      "7.258218088970203 [89.7 17.8  1.3  0. ] 4.8\n"
     ]
    }
   ],
   "source": [
    "predictions = linear.predict(x_test)\n",
    "\n",
    "for x in range(len(predictions)):\n",
    "    print(predictions[x], x_test[x], y_test[x]) "
   ]
  },
  {
   "cell_type": "code",
   "execution_count": 21,
   "metadata": {},
   "outputs": [
    {
     "data": {
      "image/png": "[encoded data removed]",
      "text/plain": [
       "<Figure size 640x480 with 1 Axes>"
      ]
     },
     "metadata": {},
     "output_type": "display_data"
    }
   ],
   "source": [
    "style.use(\"ggplot\")\n",
    "\n",
    "# Set up a scatter plot\n",
    "p = \"ISI\"\n",
    "pyplot.scatter(data[p], data[\"ISI\"])\n",
    "pyplot.xlabel(\"ISI (Initial Spread Index)\")\n",
    "pyplot.ylabel(\"Area\")\n",
    "pyplot.show()"
   ]
  }
 ],
 "metadata": {
  "kernelspec": {
   "display_name": "Python 3",
   "language": "python",
   "name": "python3"
  },
  "language_info": {
   "codemirror_mode": {
    "name": "ipython",
    "version": 3
   },
   "file_extension": ".py",
   "mimetype": "text/x-python",
   "name": "python",
   "nbconvert_exporter": "python",
   "pygments_lexer": "ipython3",
   "version": "3.10.6"
  }
 },
 "nbformat": 4,
 "nbformat_minor": 2
}
