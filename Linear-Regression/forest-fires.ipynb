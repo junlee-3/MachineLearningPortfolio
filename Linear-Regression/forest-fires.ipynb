{
 "cells": [
  {
   "cell_type": "markdown",
   "metadata": {},
   "source": [
    "# Linear Regression\n",
    "## Linear Regression function is shown as follows:\n",
    "### f(x) = mx+b\n",
    "\n",
    "To get the line equation, you calculate mean square error of the points to optimize the line so it has the least errors.\n"
   ]
  },
  {
   "cell_type": "code",
   "execution_count": null,
   "metadata": {},
   "outputs": [],
   "source": []
  }
 ],
 "metadata": {
  "language_info": {
   "name": "python"
  }
 },
 "nbformat": 4,
 "nbformat_minor": 2
}
