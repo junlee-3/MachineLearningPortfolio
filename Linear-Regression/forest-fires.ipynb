{
 "cells": [
  {
   "cell_type": "markdown",
   "metadata": {},
   "source": [
    "# Linear Regression\n",
    "## Linear Regression function is shown as follows:\n",
    "### f(x) = mx+b\n",
    "\n",
    "To get the line equation, you calculate mean square error of the points to optimize the line so it has the least errors.\n",
    "Finding the \"line of best fit\" from a bunch of points so we can predict new data"
   ]
  },
  {
   "cell_type": "code",
   "execution_count": 3,
   "metadata": {},
   "outputs": [],
   "source": [
    "# Library Imports\n",
    "import pandas as pd\n",
    "import numpy as np\n",
    "import sklearn\n",
    "import matplotlib.pyplot as pyplot\n",
    "import pickle\n",
    "from sklearn import linear_model\n",
    "from sklearn.utils import shuffle\n",
    "from matplotlib import style"
   ]
  },
  {
   "cell_type": "code",
   "execution_count": 10,
   "metadata": {},
   "outputs": [
    {
     "name": "stdout",
     "output_type": "stream",
     "text": [
      "   X  Y month  day  FFMC   DMC     DC  ISI  temp  RH  wind  rain  area\n",
      "0  7  5   mar  fri  86.2  26.2   94.3  5.1   8.2  51   6.7   0.0   0.0\n",
      "1  7  4   oct  tue  90.6  35.4  669.1  6.7  18.0  33   0.9   0.0   0.0\n",
      "2  7  4   oct  sat  90.6  43.7  686.9  6.7  14.6  33   1.3   0.0   0.0\n",
      "3  8  6   mar  fri  91.7  33.3   77.5  9.0   8.3  97   4.0   0.2   0.0\n",
      "4  8  6   mar  sun  89.3  51.3  102.2  9.6  11.4  99   1.8   0.0   0.0\n"
     ]
    }
   ],
   "source": [
    "#Using Pandas atrributes\n",
    "data = pd.read_csv(\"forestfires.csv\", sep=\",\")\n",
    "print(data.head())"
   ]
  },
  {
   "cell_type": "code",
   "execution_count": 51,
   "metadata": {},
   "outputs": [
    {
     "name": "stdout",
     "output_type": "stream",
     "text": [
      "   FFMC  ISI  temp  wind  area\n",
      "0  86.2  5.1   8.2   6.7   0.0\n",
      "1  90.6  6.7  18.0   0.9   0.0\n",
      "2  90.6  6.7  14.6   1.3   0.0\n",
      "3  91.7  9.0   8.3   4.0   0.0\n",
      "4  89.3  9.6  11.4   1.8   0.0\n"
     ]
    }
   ],
   "source": [
    "data = data[[\"FFMC\", \"ISI\", \"temp\", \"wind\", \"area\"]]\n",
    "print(data.head())"
   ]
  },
  {
   "cell_type": "code",
   "execution_count": 52,
   "metadata": {},
   "outputs": [],
   "source": [
    "predict = \"area\"\n",
    "\n",
    "#Set X and Y\n",
    "x = np.array(data.drop(predict, axis=1))\n",
    "y = np.array(data[predict])"
   ]
  },
  {
   "cell_type": "code",
   "execution_count": 53,
   "metadata": {},
   "outputs": [],
   "source": [
    "# Split the data set into train and test sets\n",
    "x_train, x_test, y_train, y_test = sklearn.model_selection.train_test_split(x, y, test_size=0.1)"
   ]
  },
  {
   "cell_type": "code",
   "execution_count": 54,
   "metadata": {},
   "outputs": [
    {
     "name": "stdout",
     "output_type": "stream",
     "text": [
      "-0.006825150378670042\n"
     ]
    }
   ],
   "source": [
    " linear = linear_model.LinearRegression()\n",
    "\n",
    "# # Define the line of best fit\n",
    " linear.fit(x_train, y_train)\n",
    " acc = linear.score(x_test, y_test)\n",
    " print(acc)"
   ]
  },
  {
   "cell_type": "code",
   "execution_count": 46,
   "metadata": {},
   "outputs": [],
   "source": [
    "with open(\"studentmodel.pickle\", \"wb\") as f:\n",
    "    pickle.dump(linear, f)"
   ]
  },
  {
   "cell_type": "code",
   "execution_count": 47,
   "metadata": {},
   "outputs": [],
   "source": [
    "# Load the pickle file\n",
    "pickle_in = open(\"studentmodel.pickle\", \"rb\")\n",
    "linear = pickle.load(pickle_in)"
   ]
  },
  {
   "cell_type": "code",
   "execution_count": 19,
   "metadata": {},
   "outputs": [
    {
     "name": "stdout",
     "output_type": "stream",
     "text": [
      "Coefficient: \n",
      " [-0.08221645  0.06897372 -0.00417218 -0.64404039  0.87159831 -0.21174294\n",
      "  1.84736554 -2.19097992]\n",
      "Intercept: \n",
      " 6.861193554447305\n"
     ]
    }
   ],
   "source": [
    "print('Coefficient: \\n', linear.coef_)\n",
    "print('Intercept: \\n', linear.intercept_)"
   ]
  },
  {
   "cell_type": "code",
   "execution_count": 20,
   "metadata": {},
   "outputs": [
    {
     "name": "stdout",
     "output_type": "stream",
     "text": [
      "20.962877157384174 [ 93.7 231.1 715.1   8.4  21.9  42.    2.2   0. ] 174.63\n",
      "16.816869450095098 [ 91.  129.5 692.6   7.   21.6  33.    2.2   0. ] 11.53\n",
      "25.60381807240988 [ 94.8 227.  706.7  12.   25.   36.    4.    0. ] 0.0\n",
      "16.837367029201914 [ 92.3  85.3 488.   14.7  22.2  29.    5.4   0. ] 0.0\n",
      "13.557830320702813 [ 92.2 102.3 751.5   8.4  21.2  32.    2.2   0. ] 0.0\n",
      "16.83478114980773 [ 91.2 147.8 377.2  12.7  19.6  43.    4.9   0. ] 0.0\n",
      "8.681515504831033 [ 91.9 133.6 520.5   8.   14.2  58.    4.    0. ] 0.0\n",
      "19.15607467705038 [ 94.9 130.3 587.1  14.1  23.4  40.    5.8   0. ] 1.29\n",
      "14.701287957555376 [ 84.9  32.8 664.2   3.   19.1  32.    4.    0. ] 5.44\n",
      "15.845314583499018 [ 91.  129.5 692.6   7.   21.7  38.    2.2   0. ] 0.43\n",
      "14.026836914661494 [ 93.7  80.9 685.2  17.9  23.7  25.    4.5   0. ] 1.12\n",
      "11.70738240119557 [ 92.5 122.  789.7  10.2  19.7  39.    2.7   0. ] 0.0\n",
      "0.170130043563403 [ 92.  203.2 664.5   8.1  10.4  75.    0.9   0. ] 0.0\n",
      "14.014008588676962 [ 91.2  94.3 744.4   8.4  22.3  48.    4.    0. ] 0.72\n",
      "9.370262073018107 [ 91.8  78.5 724.3   9.2  19.1  38.    2.7   0. ] 0.0\n",
      "9.437980927211147 [ 91.2 124.4 795.3   8.5  17.1  41.    2.2   0. ] 11.22\n",
      "2.524145506877068 [ 93.7  80.9 685.2  17.9  17.6  42.    3.1   0. ] 0.0\n",
      "-1.9357821146181555 [ 85.1  28.  113.8   3.5  11.3  94.    4.9   0. ] 0.0\n",
      "22.881833881106033 [ 91.6 273.8 819.1   7.7  15.5  72.    8.    0. ] 1.94\n",
      "11.658066293481976 [ 88.6  91.8 709.9   7.1  17.4  56.    5.4   0. ] 0.0\n",
      "19.385463072123184 [ 91.1 103.2 638.8   5.8  23.1  31.    3.1   0. ] 0.0\n",
      "8.391840426549138 [84.7  8.2 55.   2.9 14.2 46.   4.   0. ] 0.0\n",
      "1.5776779243830008 [ 94.   47.9 100.7  10.7  17.3  80.    4.5   0. ] 0.0\n",
      "15.443685331383165 [ 92.8 119.  783.5   7.5  16.8  28.    4.    0. ] 1.01\n",
      "15.113165247782735 [ 92.1 152.6 658.2  14.3  21.   32.    3.1   0. ] 0.0\n",
      "17.32225271284756 [ 91.1  94.1 232.1   7.1  19.2  38.    4.5   0. ] 0.0\n",
      "18.486298959162063 [ 92.4 117.9 668.   12.2  19.6  33.    6.3   0. ] 19.23\n",
      "16.033070907243268 [93.4 15.  25.6 11.4 15.2 19.   7.6  0. ] 0.0\n",
      "4.835584950117329 [91.2 48.3 97.8 12.5 11.7 33.   4.   0. ] 8.31\n",
      "16.328111987163332 [ 94.8 222.4 698.6  13.9  20.3  42.    2.7   0. ] 0.0\n",
      "17.508122874005828 [ 91.  166.9 752.6   7.1  21.1  71.    7.6   1.4] 2.17\n",
      "9.118758784406207 [ 92.1  99.  745.3   9.6  19.8  47.    2.7   0. ] 1.72\n",
      "15.642724450452526 [ 91.4 142.4 601.4  10.6  18.2  43.    4.9   0. ] 0.0\n",
      "-1.6355235248799067 [ 84.9  27.5 353.5   3.4   4.2  51.    4.    0. ] 0.0\n",
      "15.893350152638732 [ 92.1 111.2 654.1   9.6  20.5  35.    4.    0. ] 1.64\n",
      "12.891501462670714 [ 91.9 111.7 770.3   6.5  19.6  45.    3.1   0. ] 20.03\n",
      "11.456407288494187 [90.1 39.7 86.6  6.2 16.1 29.   3.1  0. ] 1.75\n",
      "11.095454690336538 [90.1 39.7 86.6  6.2 15.2 27.   3.1  0. ] 31.86\n",
      "20.898052122737013 [69.   2.4 15.5  0.7 17.4 24.   5.4  0. ] 0.0\n",
      "-3.6019181200252275 [ 92.1  99.  745.3   9.6  10.1  75.    3.6   0. ] 3.71\n",
      "6.083372414004384 [87.2 15.1 36.9  7.1 10.2 45.   5.8  0. ] 3.18\n",
      "22.882957840344893 [ 94.8 227.  706.7  12.   23.3  34.    3.1   0. ] 28.74\n",
      "0.4888471043591265 [ 90.5 196.8 649.9  16.3  11.8  88.    4.9   0. ] 9.71\n",
      "18.486298959162063 [ 92.4 117.9 668.   12.2  19.6  33.    6.3   0. ] 0.0\n",
      "13.013902852584366 [91.7 35.8 80.8  7.8 15.2 27.   4.9  0. ] 0.0\n",
      "19.57400520222112 [ 95.2 217.7 690.   18.   23.4  49.    5.4   0. ] 6.43\n",
      "0.3301556285264118 [ 92.6  46.5 691.8   8.8  13.8  50.    2.7   0. ] 0.0\n",
      "11.145647894023458 [ 88.6  69.7 706.8   5.8  20.6  37.    1.8   0. ] 0.0\n",
      "6.238527179739534 [ 92.5 121.1 674.4   8.6  17.8  56.    1.8   0. ] 1.95\n",
      "25.403813883596705 [ 89.7 287.2 849.3   6.8  19.4  45.    3.6   0. ] 0.0\n",
      "12.902371496887245 [ 92.1 152.6 658.2  14.3  20.2  47.    4.    0. ] 3.09\n",
      "7.423212964998874 [ 94.6 160.  567.2  16.7  17.9  48.    2.7   0. ] 0.0\n"
     ]
    }
   ],
   "source": [
    "predictions = linear.predict(x_test)\n",
    "\n",
    "for x in range(len(predictions)):\n",
    "    print(predictions[x], x_test[x], y_test[x]) "
   ]
  },
  {
   "cell_type": "code",
   "execution_count": 58,
   "metadata": {},
   "outputs": [
    {
     "data": {
      "image/png": "[encoded data removed]",
      "text/plain": [
       "<Figure size 640x480 with 1 Axes>"
      ]
     },
     "metadata": {},
     "output_type": "display_data"
    }
   ],
   "source": [
    "style.use(\"ggplot\")\n",
    "\n",
    "# Set up a scatter plot\n",
    "p = \"ISI\"\n",
    "pyplot.scatter(data[p], data[\"area\"])\n",
    "pyplot.xlabel(p)\n",
    "pyplot.ylabel(\"area\")\n",
    "pyplot.show()"
   ]
  }
 ],
 "metadata": {
  "kernelspec": {
   "display_name": "Python 3",
   "language": "python",
   "name": "python3"
  },
  "language_info": {
   "codemirror_mode": {
    "name": "ipython",
    "version": 3
   },
   "file_extension": ".py",
   "mimetype": "text/x-python",
   "name": "python",
   "nbconvert_exporter": "python",
   "pygments_lexer": "ipython3",
   "version": "3.10.6"
  }
 },
 "nbformat": 4,
 "nbformat_minor": 2
}
